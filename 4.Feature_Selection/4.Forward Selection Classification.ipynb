{
 "cells": [
  {
   "cell_type": "markdown",
   "id": "26175bee-38ce-4879-bc5e-064db9e0b4c7",
   "metadata": {},
   "source": [
    "# 4.Forward Selection Classification"
   ]
  },
  {
   "cell_type": "code",
   "execution_count": 1,
   "id": "716659de-5a27-47c2-a34f-5233d1ad45c4",
   "metadata": {},
   "outputs": [],
   "source": [
    "import pandas as pd\n",
    "from sklearn.model_selection import train_test_split \n",
    "import time\n",
    "import numpy as np\n",
    "from sklearn.preprocessing import StandardScaler\n",
    "from sklearn.feature_selection import SelectKBest\n",
    "from sklearn.feature_selection import chi2\n",
    "from sklearn.feature_selection import RFE\n",
    "from sklearn.linear_model import LogisticRegression\n",
    "import pickle\n",
    "import matplotlib.pyplot as plt\n",
    "from sklearn.neighbors import KNeighborsClassifier   \n",
    "from sklearn.svm import SVC\n",
    "from sklearn.ensemble import RandomForestClassifier\n",
    "from sklearn.naive_bayes import GaussianNB\n",
    "from sklearn.tree import DecisionTreeClassifier\n",
    "from sklearn.feature_selection import SequentialFeatureSelector as sfs"
   ]
  },
  {
   "cell_type": "code",
   "execution_count": 2,
   "id": "cd671415-7efa-4a9a-814d-916576b36faf",
   "metadata": {},
   "outputs": [],
   "source": [
    "def SFS_Feature(indep_X,dep_Y):\n",
    "        SFSlist1=[]\n",
    "        \n",
    "        log_model = LogisticRegression(solver='lbfgs')\n",
    "        RF = RandomForestClassifier(n_estimators = 10, criterion = 'entropy', random_state = 0)\n",
    "        \n",
    "        SFSmodellist=[log_model,RF]\n",
    "        \n",
    "        for i in   SFSmodellist:\n",
    "            log_sfs = sfs(i, n_features_to_select=6 , tol=None, direction='forward', scoring=None, cv=None, n_jobs=None)\n",
    "            log_fit = log_sfs.fit(indep_X, dep_Y)\n",
    "            log_sfs_feature=log_fit.transform(indep_X)\n",
    "            SFSlist1.append(log_sfs_feature)\n",
    "        return SFSlist1\n",
    "    \n",
    "def Feature_Name(indep_X,dep_Y):\n",
    "        SFSlist=[]\n",
    "        log_model = LogisticRegression(solver='lbfgs')\n",
    "        RF = RandomForestClassifier(n_estimators = 10, criterion = 'entropy', random_state = 0)\n",
    "        \n",
    "        SFSmodellist1=[log_model,RF]\n",
    "        \n",
    "        for i in   SFSmodellist1:\n",
    "            log_sfs = sfs(i, n_features_to_select=6 , tol=None, direction='forward', scoring=None, cv=None, n_jobs=None)\n",
    "            log_fit = log_sfs.fit(indep_X, dep_Y)\n",
    "            log_sfs_feature=log_fit.transform(indep_X)\n",
    "            op=log_sfs.get_feature_names_out(input_features=None)\n",
    "            SFSlist.append(op)\n",
    "        return SFSlist\n",
    "\n",
    "def split_scalar(indep_X,dep_Y):\n",
    "        X_train, X_test, y_train, y_test = train_test_split(indep_X, dep_Y, test_size = 0.25, random_state = 0)\n",
    "        \n",
    "        #Feature Scaling\n",
    "        #from sklearn.preprocessing import StandardScaler\n",
    "        sc = StandardScaler()\n",
    "        X_train = sc.fit_transform(X_train)\n",
    "        X_test = sc.transform(X_test)\n",
    "        \n",
    "        return X_train, X_test, y_train, y_test\n",
    "    \n",
    "def cm_prediction(classifier,X_test):\n",
    "        y_pred = classifier.predict(X_test)\n",
    "        \n",
    "        # Making the Confusion Matrix\n",
    "        from sklearn.metrics import confusion_matrix\n",
    "        cm = confusion_matrix(y_test, y_pred)\n",
    "        \n",
    "        from sklearn.metrics import accuracy_score \n",
    "        from sklearn.metrics import classification_report \n",
    "        \n",
    "        Accuracy=accuracy_score(y_test, y_pred )\n",
    "        \n",
    "        report=classification_report(y_test, y_pred)\n",
    "        return  classifier,Accuracy,report,X_test,y_test,cm\n",
    "\n",
    "def logistic(X_train,y_train,X_test):\n",
    "    \n",
    "        from sklearn.linear_model import LogisticRegression\n",
    "        classifier = LogisticRegression(random_state = 0)\n",
    "        classifier.fit(X_train, y_train)\n",
    "        classifier,Accuracy,report,X_test,y_test,cm=cm_prediction(classifier,X_test)\n",
    "        return  classifier,Accuracy,report,X_test,y_test,cm      \n",
    "    \n",
    "def svm_linear(X_train,y_train,X_test):\n",
    "                \n",
    "        from sklearn.svm import SVC\n",
    "        classifier = SVC(kernel = 'linear', random_state = 0)\n",
    "        classifier.fit(X_train, y_train)\n",
    "        classifier,Accuracy,report,X_test,y_test,cm=cm_prediction(classifier,X_test)\n",
    "        return  classifier,Accuracy,report,X_test,y_test,cm\n",
    "    \n",
    "def svm_NL(X_train,y_train,X_test):\n",
    "                \n",
    "        from sklearn.svm import SVC\n",
    "        classifier = SVC(kernel = 'rbf', random_state = 0)\n",
    "        classifier.fit(X_train, y_train)\n",
    "        classifier,Accuracy,report,X_test,y_test,cm=cm_prediction(classifier,X_test)\n",
    "        return  classifier,Accuracy,report,X_test,y_test,cm\n",
    "\n",
    "def Navie(X_train,y_train,X_test):   \n",
    "    \n",
    "        from sklearn.naive_bayes import GaussianNB\n",
    "        classifier = GaussianNB()\n",
    "        classifier.fit(X_train, y_train)\n",
    "        classifier,Accuracy,report,X_test,y_test,cm=cm_prediction(classifier,X_test)\n",
    "        return  classifier,Accuracy,report,X_test,y_test,cm         \n",
    "    \n",
    "    \n",
    "def knn(X_train,y_train,X_test):\n",
    "           \n",
    "        from sklearn.neighbors import KNeighborsClassifier\n",
    "        classifier = KNeighborsClassifier(n_neighbors = 5, metric = 'minkowski', p = 2)\n",
    "        classifier.fit(X_train, y_train)\n",
    "        classifier,Accuracy,report,X_test,y_test,cm=cm_prediction(classifier,X_test)\n",
    "        return  classifier,Accuracy,report,X_test,y_test,cm\n",
    "    \n",
    "def Decision(X_train,y_train,X_test):\n",
    "        \n",
    "        from sklearn.tree import DecisionTreeClassifier\n",
    "        classifier = DecisionTreeClassifier(criterion = 'entropy', random_state = 0)\n",
    "        classifier.fit(X_train, y_train)\n",
    "        classifier,Accuracy,report,X_test,y_test,cm=cm_prediction(classifier,X_test)\n",
    "        return  classifier,Accuracy,report,X_test,y_test,cm      \n",
    "\n",
    "\n",
    "def random(X_train,y_train,X_test):\n",
    "        \n",
    "        from sklearn.ensemble import RandomForestClassifier\n",
    "        classifier = RandomForestClassifier(n_estimators = 10, criterion = 'entropy', random_state = 0)\n",
    "        classifier.fit(X_train, y_train)\n",
    "        classifier,Accuracy,report,X_test,y_test,cm=cm_prediction(classifier,X_test)\n",
    "        return  classifier,Accuracy,report,X_test,y_test,cm\n",
    "    \n",
    "\n",
    "def rfe_classification(acclog,accsvml,accsvmnl,accknn,accnav,accdes,accrf): \n",
    "    \n",
    "    rfedataframe=pd.DataFrame(index=['Logistic','Random'],columns=['Logistic','SVMl','SVMnl','KNN','Navie','Decision','Random'])\n",
    "\n",
    "    for number,idex in enumerate(rfedataframe.index):\n",
    "        \n",
    "        rfedataframe['Logistic'][idex]=acclog[number]       \n",
    "        rfedataframe['SVMl'][idex]=accsvml[number]\n",
    "        rfedataframe['SVMnl'][idex]=accsvmnl[number]\n",
    "        rfedataframe['KNN'][idex]=accknn[number]\n",
    "        rfedataframe['Navie'][idex]=accnav[number]\n",
    "        rfedataframe['Decision'][idex]=accdes[number]\n",
    "        rfedataframe['Random'][idex]=accrf[number]\n",
    "    return rfedataframe"
   ]
  },
  {
   "cell_type": "code",
   "execution_count": 3,
   "id": "b05f2af6-85db-4770-9ef1-b01a641b7878",
   "metadata": {},
   "outputs": [],
   "source": [
    "dataset1=pd.read_csv(\"churn_preprocess_data.csv\",index_col=None)\n",
    "df2=dataset1\n",
    "df2 = pd.get_dummies(df2, drop_first=True)\n",
    "\n",
    "indep_X=df2.drop('Churn_Yes', axis=1)\n",
    "dep_Y=df2['Churn_Yes']"
   ]
  },
  {
   "cell_type": "code",
   "execution_count": 4,
   "id": "79c0c286-2430-421d-9464-db4e91514f47",
   "metadata": {},
   "outputs": [],
   "source": [
    "SFSlist=SFS_Feature(indep_X,dep_Y)       \n",
    "\n",
    "acclog=[]\n",
    "accsvml=[]\n",
    "accsvmnl=[]\n",
    "accknn=[]\n",
    "accnav=[]\n",
    "accdes=[]\n",
    "accrf=[]"
   ]
  },
  {
   "cell_type": "code",
   "execution_count": 5,
   "id": "d892779a-8840-45fa-ab90-15ca8e0e9298",
   "metadata": {},
   "outputs": [
    {
     "data": {
      "text/plain": [
       "[array([[5.00000e+00, 1.37150e+02, 1.00000e+00, 0.00000e+00, 1.00000e+00,\n",
       "         0.00000e+00],\n",
       "        [4.20000e+01, 1.60776e+03, 0.00000e+00, 0.00000e+00, 0.00000e+00,\n",
       "         1.00000e+00],\n",
       "        [6.10000e+01, 6.49284e+03, 0.00000e+00, 1.00000e+00, 0.00000e+00,\n",
       "         0.00000e+00],\n",
       "        ...,\n",
       "        [7.10000e+01, 4.22947e+03, 0.00000e+00, 0.00000e+00, 1.00000e+00,\n",
       "         0.00000e+00],\n",
       "        [1.00000e+00, 3.13200e+01, 0.00000e+00, 0.00000e+00, 1.00000e+00,\n",
       "         1.00000e+00],\n",
       "        [1.30000e+01, 2.66500e+02, 1.00000e+00, 0.00000e+00, 1.00000e+00,\n",
       "         0.00000e+00]]),\n",
       " array([[ 5.,  0.,  1.,  0.,  1.,  1.],\n",
       "        [42.,  1.,  0.,  1.,  1.,  0.],\n",
       "        [61.,  0.,  0.,  0.,  1.,  0.],\n",
       "        ...,\n",
       "        [71.,  0.,  0.,  1.,  0.,  0.],\n",
       "        [ 1.,  0.,  0.,  1.,  0.,  0.],\n",
       "        [13.,  1.,  1.,  0.,  0.,  0.]])]"
      ]
     },
     "execution_count": 5,
     "metadata": {},
     "output_type": "execute_result"
    }
   ],
   "source": [
    "SFSlist"
   ]
  },
  {
   "cell_type": "code",
   "execution_count": 6,
   "id": "d22f4b74-2c9b-4514-85fb-0a7c3c25e4dd",
   "metadata": {},
   "outputs": [],
   "source": [
    "Feature_Name=Feature_Name(indep_X,dep_Y)"
   ]
  },
  {
   "cell_type": "code",
   "execution_count": 7,
   "id": "4b03d381-66ed-49a9-98ce-02099d49f936",
   "metadata": {},
   "outputs": [
    {
     "data": {
      "text/plain": [
       "[array(['tenure', 'TotalCharges', 'Month-to-month_Yes', 'One year_Yes',\n",
       "        'MultipleLines_Yes', 'OnlineSecurity_Yes'], dtype=object),\n",
       " array(['tenure', 'Electronic check_Yes', 'Month-to-month_Yes',\n",
       "        'Two year_Yes', 'OnlineBackup_Yes', 'PaperlessBilling_Yes'],\n",
       "       dtype=object)]"
      ]
     },
     "execution_count": 7,
     "metadata": {},
     "output_type": "execute_result"
    }
   ],
   "source": [
    "Feature_Name"
   ]
  },
  {
   "cell_type": "code",
   "execution_count": 8,
   "id": "ff26451f-1f03-4720-9d40-cbd95efa675d",
   "metadata": {},
   "outputs": [],
   "source": [
    "for i in SFSlist:   \n",
    "    X_train, X_test, y_train, y_test=split_scalar(i,dep_Y)   \n",
    "    \n",
    "        \n",
    "    classifier,Accuracy,report,X_test,y_test,cm=logistic(X_train,y_train,X_test)\n",
    "    acclog.append(Accuracy)\n",
    "    \n",
    "    classifier,Accuracy,report,X_test,y_test,cm=svm_linear(X_train,y_train,X_test)  \n",
    "    accsvml.append(Accuracy)\n",
    "    \n",
    "    classifier,Accuracy,report,X_test,y_test,cm=svm_NL(X_train,y_train,X_test)  \n",
    "    accsvmnl.append(Accuracy)\n",
    "    \n",
    "    classifier,Accuracy,report,X_test,y_test,cm=knn(X_train,y_train,X_test)  \n",
    "    accknn.append(Accuracy)\n",
    "    \n",
    "    classifier,Accuracy,report,X_test,y_test,cm=Navie(X_train,y_train,X_test)  \n",
    "    accnav.append(Accuracy)\n",
    "    \n",
    "    classifier,Accuracy,report,X_test,y_test,cm=Decision(X_train,y_train,X_test)  \n",
    "    accdes.append(Accuracy)\n",
    "    \n",
    "    classifier,Accuracy,report,X_test,y_test,cm=random(X_train,y_train,X_test)  \n",
    "    accrf.append(Accuracy)\n",
    "    \n",
    "result=rfe_classification(acclog,accsvml,accsvmnl,accknn,accnav,accdes,accrf)"
   ]
  },
  {
   "cell_type": "code",
   "execution_count": 9,
   "id": "5a4240ed-ae14-482a-b851-6f6ffd8cb9e2",
   "metadata": {},
   "outputs": [
    {
     "data": {
      "text/html": [
       "<div>\n",
       "<style scoped>\n",
       "    .dataframe tbody tr th:only-of-type {\n",
       "        vertical-align: middle;\n",
       "    }\n",
       "\n",
       "    .dataframe tbody tr th {\n",
       "        vertical-align: top;\n",
       "    }\n",
       "\n",
       "    .dataframe thead th {\n",
       "        text-align: right;\n",
       "    }\n",
       "</style>\n",
       "<table border=\"1\" class=\"dataframe\">\n",
       "  <thead>\n",
       "    <tr style=\"text-align: right;\">\n",
       "      <th></th>\n",
       "      <th>Logistic</th>\n",
       "      <th>SVMl</th>\n",
       "      <th>SVMnl</th>\n",
       "      <th>KNN</th>\n",
       "      <th>Navie</th>\n",
       "      <th>Decision</th>\n",
       "      <th>Random</th>\n",
       "    </tr>\n",
       "  </thead>\n",
       "  <tbody>\n",
       "    <tr>\n",
       "      <th>Logistic</th>\n",
       "      <td>0.493333</td>\n",
       "      <td>0.466667</td>\n",
       "      <td>0.533333</td>\n",
       "      <td>0.506667</td>\n",
       "      <td>0.466667</td>\n",
       "      <td>0.426667</td>\n",
       "      <td>0.48</td>\n",
       "    </tr>\n",
       "    <tr>\n",
       "      <th>Random</th>\n",
       "      <td>0.52</td>\n",
       "      <td>0.52</td>\n",
       "      <td>0.56</td>\n",
       "      <td>0.493333</td>\n",
       "      <td>0.56</td>\n",
       "      <td>0.373333</td>\n",
       "      <td>0.44</td>\n",
       "    </tr>\n",
       "  </tbody>\n",
       "</table>\n",
       "</div>"
      ],
      "text/plain": [
       "          Logistic      SVMl     SVMnl       KNN     Navie  Decision Random\n",
       "Logistic  0.493333  0.466667  0.533333  0.506667  0.466667  0.426667   0.48\n",
       "Random        0.52      0.52      0.56  0.493333      0.56  0.373333   0.44"
      ]
     },
     "execution_count": 9,
     "metadata": {},
     "output_type": "execute_result"
    }
   ],
   "source": [
    "result\n",
    "#1"
   ]
  },
  {
   "cell_type": "code",
   "execution_count": null,
   "id": "3b47b6df-392d-4c1d-9b1d-487d13bc2acb",
   "metadata": {},
   "outputs": [],
   "source": []
  },
  {
   "cell_type": "code",
   "execution_count": null,
   "id": "bde84dd8-9d8c-4fcc-98e3-933e8dcd6433",
   "metadata": {},
   "outputs": [],
   "source": []
  },
  {
   "cell_type": "code",
   "execution_count": null,
   "id": "a8c60ae9-4925-4604-82c5-c24f2cd1438e",
   "metadata": {},
   "outputs": [],
   "source": []
  },
  {
   "cell_type": "code",
   "execution_count": null,
   "id": "829ba57c-e242-4d0c-96cc-cdfd813a2418",
   "metadata": {},
   "outputs": [],
   "source": []
  },
  {
   "cell_type": "code",
   "execution_count": null,
   "id": "4550baaa-6b08-44c4-9d6b-38f18c4cacee",
   "metadata": {},
   "outputs": [],
   "source": []
  },
  {
   "cell_type": "code",
   "execution_count": null,
   "id": "654825d8-1796-47cf-bc56-7c7f866110db",
   "metadata": {},
   "outputs": [],
   "source": []
  },
  {
   "cell_type": "code",
   "execution_count": null,
   "id": "236d0134-23fd-48e9-a2e8-b1159a191c72",
   "metadata": {},
   "outputs": [],
   "source": []
  },
  {
   "cell_type": "code",
   "execution_count": null,
   "id": "f343b31f-7ae2-4941-b86f-ee691d43ae57",
   "metadata": {},
   "outputs": [],
   "source": []
  },
  {
   "cell_type": "code",
   "execution_count": null,
   "id": "a0458364-b9b7-4fc9-b6da-1679876fec10",
   "metadata": {},
   "outputs": [],
   "source": []
  },
  {
   "cell_type": "code",
   "execution_count": null,
   "id": "55b54c76-fc2e-4140-ac47-93a68b850f02",
   "metadata": {},
   "outputs": [],
   "source": []
  },
  {
   "cell_type": "code",
   "execution_count": null,
   "id": "e93ea851-fc39-4bf7-9ff0-64800b0bb240",
   "metadata": {},
   "outputs": [],
   "source": []
  }
 ],
 "metadata": {
  "kernelspec": {
   "display_name": "Python 3 (ipykernel)",
   "language": "python",
   "name": "python3"
  },
  "language_info": {
   "codemirror_mode": {
    "name": "ipython",
    "version": 3
   },
   "file_extension": ".py",
   "mimetype": "text/x-python",
   "name": "python",
   "nbconvert_exporter": "python",
   "pygments_lexer": "ipython3",
   "version": "3.11.7"
  }
 },
 "nbformat": 4,
 "nbformat_minor": 5
}
