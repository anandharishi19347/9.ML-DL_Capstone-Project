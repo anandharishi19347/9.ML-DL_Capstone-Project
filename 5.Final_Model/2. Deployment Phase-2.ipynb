{
 "cells": [
  {
   "cell_type": "code",
   "execution_count": 1,
   "id": "3ad86d54-6620-4fb6-b0e7-3ae1808a3a50",
   "metadata": {},
   "outputs": [],
   "source": [
    "#importing the Libraries#\n",
    "import numpy as np\n",
    "import matplotlib.pyplot as plt\n",
    "import pandas as pd\n",
    "import pickle"
   ]
  },
  {
   "cell_type": "code",
   "execution_count": 2,
   "id": "0b1cceef-4208-4b8f-8966-fbffdd1b960b",
   "metadata": {},
   "outputs": [],
   "source": [
    "#Reading the Dataset#\n",
    "dataset=pd.read_csv('churn_preprocess_data.csv')"
   ]
  },
  {
   "cell_type": "code",
   "execution_count": 3,
   "id": "f4bc660e-e6ec-4cdc-9d46-4e5aa27c0e36",
   "metadata": {},
   "outputs": [],
   "source": [
    "#create dummy data set. #drop a column#\n",
    "dataset=pd.get_dummies(dataset,drop_first=True)"
   ]
  },
  {
   "cell_type": "code",
   "execution_count": 4,
   "id": "59a2fcaa-33c8-4fcb-8933-100786394d44",
   "metadata": {},
   "outputs": [],
   "source": [
    "#catogorical data convert to numerical data#\n",
    "dataset=dataset.astype(int)"
   ]
  },
  {
   "cell_type": "code",
   "execution_count": 5,
   "id": "76218a9d-70f3-449a-b752-3af02dbcaeb0",
   "metadata": {},
   "outputs": [],
   "source": [
    "#independent variable means input.  #split input variables. #dataset assigned to independent variable#\n",
    "independent=dataset[['SeniorCitizen', 'tenure', 'MonthlyCharges', 'TotalCharges',\n",
    "       'Bank transfer_Yes', 'Credit card_Yes', 'Electronic check_Yes',\n",
    "       'Mailed check_Yes', 'Month-to-month_Yes', 'One year_Yes',\n",
    "       'Two year_Yes', 'gender_Male', 'Partner_Yes', 'Dependents_Yes',\n",
    "       'PhoneService_Yes', 'MultipleLines_Yes', 'InternetService_Yes',\n",
    "       'OnlineSecurity_Yes', 'OnlineBackup_Yes', 'DeviceProtection_Yes',\n",
    "       'TechSupport_Yes', 'StreamingTV_Yes', 'StreamingMovies_Yes',\n",
    "       'PaperlessBilling_Yes']]"
   ]
  },
  {
   "cell_type": "code",
   "execution_count": 6,
   "id": "25a824be-e62b-47fb-bda9-b641a4f13cac",
   "metadata": {},
   "outputs": [],
   "source": [
    "#dependent variable means output.  #split output variables. #dataset assigned to dependent variable#\n",
    "dependent=dataset[['Churn_Yes']]"
   ]
  },
  {
   "cell_type": "code",
   "execution_count": 7,
   "id": "63336c7e-71a1-42a7-ad36-a96191066c77",
   "metadata": {},
   "outputs": [],
   "source": [
    "#machine learning algorithms provider is sklearn #split train set and test set#\n",
    "from sklearn.model_selection import train_test_split \n",
    "X_train,X_test,y_train,y_test=train_test_split(independent, dependent,test_size=0.30,random_state=0)"
   ]
  },
  {
   "cell_type": "code",
   "execution_count": 8,
   "id": "21b7496e-8b25-4cba-bb8f-dd48cf274950",
   "metadata": {},
   "outputs": [],
   "source": [
    "from sklearn.preprocessing import StandardScaler\n",
    "sc=StandardScaler()\n",
    "X_train = sc.fit_transform(X_train)\n",
    "X_test = sc.transform(X_test)"
   ]
  },
  {
   "cell_type": "code",
   "execution_count": 9,
   "id": "b9b0b495-b83a-48da-ab62-28e0b7d56e24",
   "metadata": {},
   "outputs": [
    {
     "name": "stderr",
     "output_type": "stream",
     "text": [
      "C:\\Users\\anandha rishi\\anaconda3\\anaconda4\\Lib\\site-packages\\sklearn\\base.py:439: UserWarning: X does not have valid feature names, but StandardScaler was fitted with feature names\n",
      "  warnings.warn(\n"
     ]
    }
   ],
   "source": [
    "preinput=sc.transform([[1300,1200,4000,0,1,0,1,0,1,1,1,0,0,0,0,1,0,0,0,0,1,0,1,0,]])"
   ]
  },
  {
   "cell_type": "code",
   "execution_count": 10,
   "id": "47828a71-9f61-48ea-9d28-b024ddf055f9",
   "metadata": {},
   "outputs": [
    {
     "data": {
      "text/plain": [
       "array([[ 2.60003288e+03,  5.72081465e+01,  1.35742951e+02,\n",
       "        -1.34412086e+00,  1.74311834e+00, -5.95683397e-01,\n",
       "         1.67874412e+00, -5.44331054e-01,  1.24939010e+00,\n",
       "         1.44507276e+00,  1.58113883e+00, -1.00956960e+00,\n",
       "        -1.10023921e+00, -1.08972474e+00, -1.06904497e+00,\n",
       "         1.42950280e+00, -1.47709789e+00, -6.77003200e-01,\n",
       "        -7.45355992e-01, -8.00390530e-01,  1.30088727e+00,\n",
       "        -6.47239460e-01,  1.49357599e+00, -1.13252315e+00]])"
      ]
     },
     "execution_count": 10,
     "metadata": {},
     "output_type": "execute_result"
    }
   ],
   "source": [
    "preinput"
   ]
  },
  {
   "cell_type": "code",
   "execution_count": 14,
   "id": "162f8d0a-6996-43bb-8881-183cefbc30e9",
   "metadata": {},
   "outputs": [],
   "source": [
    "#load the saved model and gets input# \n",
    "loaded_model=pickle.load(open(\"finalized_model_gnb.sav\",'rb'))\n",
    "result=loaded_model.predict(preinput)"
   ]
  },
  {
   "cell_type": "code",
   "execution_count": 15,
   "id": "8e8a9a86-e71d-4324-b2b3-ac0558b0402b",
   "metadata": {},
   "outputs": [
    {
     "data": {
      "text/plain": [
       "array([1])"
      ]
     },
     "execution_count": 15,
     "metadata": {},
     "output_type": "execute_result"
    }
   ],
   "source": [
    "result"
   ]
  },
  {
   "cell_type": "code",
   "execution_count": null,
   "id": "805f379c-0e5e-45ff-a147-3fcf21faef46",
   "metadata": {},
   "outputs": [],
   "source": []
  }
 ],
 "metadata": {
  "kernelspec": {
   "display_name": "Python 3 (ipykernel)",
   "language": "python",
   "name": "python3"
  },
  "language_info": {
   "codemirror_mode": {
    "name": "ipython",
    "version": 3
   },
   "file_extension": ".py",
   "mimetype": "text/x-python",
   "name": "python",
   "nbconvert_exporter": "python",
   "pygments_lexer": "ipython3",
   "version": "3.11.7"
  }
 },
 "nbformat": 4,
 "nbformat_minor": 5
}
