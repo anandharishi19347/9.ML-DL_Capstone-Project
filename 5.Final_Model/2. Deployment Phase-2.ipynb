{
 "cells": [
  {
   "cell_type": "code",
   "execution_count": 1,
   "id": "db5e0132-4443-4554-bd46-3e95905c2fda",
   "metadata": {},
   "outputs": [],
   "source": [
    "import pandas as pd\n",
    "import numpy as np\n",
    "import pickle\n",
    "from sklearn.preprocessing import StandardScaler\n",
    "from sklearn.model_selection import train_test_split, GridSearchCV\n",
    "from sklearn.linear_model import LogisticRegression\n",
    "from sklearn.metrics import accuracy_score, classification_report, confusion_matrix, f1_score, roc_auc_score"
   ]
  },
  {
   "cell_type": "code",
   "execution_count": 2,
   "id": "24eb5c3b-9ce6-4296-8d33-b6ac8e3c5fb4",
   "metadata": {},
   "outputs": [],
   "source": [
    "def preprocess_input(df):\n",
    "    df = pd.get_dummies(df, drop_first=True)\n",
    "    df.replace({True: 1, False: 0}, inplace=True)\n",
    "    return df"
   ]
  },
  {
   "cell_type": "code",
   "execution_count": 3,
   "id": "d48b398a-6825-41b4-90ef-9a8d06697054",
   "metadata": {},
   "outputs": [],
   "source": [
    "def load_model_and_scaler():\n",
    "    with open(\"best_model\", \"rb\") as file:\n",
    "        model = pickle.load(file)\n",
    "    with open(\"standard_scaler.pkl\", \"rb\") as file:\n",
    "        scaler = pickle.load(file)\n",
    "    return model, scaler"
   ]
  },
  {
   "cell_type": "code",
   "execution_count": 4,
   "id": "79ffddd1-2e12-4109-807e-9ccd047ac5d9",
   "metadata": {},
   "outputs": [],
   "source": [
    "def predict_customer_churn(model, scaler, input_data):\n",
    "    input_df = pd.DataFrame([input_data])\n",
    "    input_scaled = scaler.transform(input_df)\n",
    "    prediction = model.predict(input_scaled)[0]\n",
    "    return \"Yes\" if prediction == 1 else \"No\""
   ]
  },
  {
   "cell_type": "code",
   "execution_count": 5,
   "id": "95f48d15-c645-4c30-9a35-7fe17c8edcc4",
   "metadata": {},
   "outputs": [],
   "source": [
    "if __name__ == \"__main__\":\n",
    "    model, scaler = load_model_and_scaler()"
   ]
  },
  {
   "cell_type": "code",
   "execution_count": 6,
   "id": "29ff6400-e91d-422f-b77f-4974fff560c0",
   "metadata": {},
   "outputs": [
    {
     "name": "stdin",
     "output_type": "stream",
     "text": [
      "tenure:  12\n",
      "MonthlyCharges:  23\n",
      "TotalCharges:  34\n",
      "OnlineSecurity_Yes:  45\n",
      "StreamingMovies_No_internet_service:  56\n",
      "PaymentMethod_Mailed_check:  67\n"
     ]
    }
   ],
   "source": [
    " input_data = {\n",
    "        \"tenure\": int(input(\"tenure: \")),\n",
    "        \"MonthlyCharges\": float(input(\"MonthlyCharges: \")),\n",
    "        \"TotalCharges\": float(input(\"TotalCharges: \")),\n",
    "        \"OnlineSecurity_Yes\": int(input(\"OnlineSecurity_Yes: \")),\n",
    "        \"StreamingMovies_No_internet_service\": int(input(\"StreamingMovies_No_internet_service: \")),\n",
    "        \"PaymentMethod_Mailed_check\": int(input(\"PaymentMethod_Mailed_check: \")),}"
   ]
  },
  {
   "cell_type": "code",
   "execution_count": 7,
   "id": "0601cf63-861b-426a-a878-0bb341ca2111",
   "metadata": {},
   "outputs": [
    {
     "name": "stdout",
     "output_type": "stream",
     "text": [
      "Churn Prediction: No\n"
     ]
    },
    {
     "name": "stderr",
     "output_type": "stream",
     "text": [
      "E:\\Anaconda3\\envs\\aiml\\lib\\site-packages\\sklearn\\utils\\validation.py:2732: UserWarning: X has feature names, but StandardScaler was fitted without feature names\n",
      "  warnings.warn(\n"
     ]
    }
   ],
   "source": [
    "result = predict_customer_churn(model, scaler, input_data)\n",
    "print(f\"Churn Prediction: {result}\")"
   ]
  },
  {
   "cell_type": "code",
   "execution_count": null,
   "id": "8ba3a21e-927d-470a-a62b-8cafaa778faa",
   "metadata": {},
   "outputs": [],
   "source": []
  }
 ],
 "metadata": {
  "kernelspec": {
   "display_name": "Python (aiml)",
   "language": "python",
   "name": "aiml"
  },
  "language_info": {
   "codemirror_mode": {
    "name": "ipython",
    "version": 3
   },
   "file_extension": ".py",
   "mimetype": "text/x-python",
   "name": "python",
   "nbconvert_exporter": "python",
   "pygments_lexer": "ipython3",
   "version": "3.10.16"
  }
 },
 "nbformat": 4,
 "nbformat_minor": 5
}
